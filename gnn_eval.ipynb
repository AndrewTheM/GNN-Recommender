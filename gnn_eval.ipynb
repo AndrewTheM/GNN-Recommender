{
 "cells": [
  {
   "cell_type": "code",
   "execution_count": 1,
   "metadata": {},
   "outputs": [],
   "source": [
    "import math\n",
    "import torch\n",
    "import pandas as pd\n",
    "\n",
    "from model.gnn_recommender import GNNRecommender"
   ]
  },
  {
   "cell_type": "code",
   "execution_count": 2,
   "metadata": {},
   "outputs": [],
   "source": [
    "def get_user_blog_history(data, user_id, blog_df, rating_df):\n",
    "    blogs = []\n",
    "    for blog_id in data.edge_index[1, data.edge_index[0] == user_id].tolist():\n",
    "        rating = rating_df.query('blog_id == @blog_id and userId == @user_id')['ratings'].item()\n",
    "        full_blog = blog_df.query('blog_id == @blog_id')\n",
    "        title = full_blog['blog_title'].item()\n",
    "        topic = full_blog['topic'].item()\n",
    "        blogs.append((rating, topic, title))\n",
    "    blogs.sort(reverse = True)\n",
    "    return blogs"
   ]
  },
  {
   "cell_type": "code",
   "execution_count": 3,
   "metadata": {},
   "outputs": [],
   "source": [
    "def recommend_blogs(model, data, user_id, top_k=5):\n",
    "    model.eval()\n",
    "    with torch.no_grad():\n",
    "        # All blogs\n",
    "        all_blogs = torch.arange(data.x.size(0))\n",
    "        \n",
    "        # Blogs the user has interacted with\n",
    "        interacted_blogs = data.edge_index[1, data.edge_index[0] == user_id].unique()\n",
    "        \n",
    "        # Blogs the user has not interacted with\n",
    "        non_interacted_blogs = all_blogs[~torch.isin(all_blogs, interacted_blogs)]\n",
    "        \n",
    "        # Create user-blog edge index for prediction\n",
    "        user_id_tensor = torch.tensor([user_id] * len(non_interacted_blogs), dtype=torch.long)\n",
    "        edge_index = torch.stack((user_id_tensor, non_interacted_blogs.long()))\n",
    "\n",
    "        # Predict interaction scores for non-interacted blogs\n",
    "        predictions = model(data.x, edge_index, None).squeeze()\n",
    "        \n",
    "        # Get top-k blog recommendations\n",
    "        top_k_pred = predictions.topk(k=min(top_k, len(non_interacted_blogs)), largest=True)\n",
    "        recommended_blogs = non_interacted_blogs[top_k_pred.indices]\n",
    "        \n",
    "    return recommended_blogs"
   ]
  },
  {
   "cell_type": "code",
   "execution_count": 4,
   "metadata": {},
   "outputs": [],
   "source": [
    "blog_data_df = pd.read_csv('data/blog_data.csv')\n",
    "interactions_df = pd.read_csv('data/blog_interactions.csv')\n",
    "\n",
    "blog_ids_map = {id: i for i, id in enumerate(blog_data_df['blog_id'])}\n",
    "blog_data_df['blog_id'] = blog_data_df['blog_id'].map(blog_ids_map)\n",
    "interactions_df['blog_id'] = interactions_df['blog_id'].map(blog_ids_map)"
   ]
  },
  {
   "cell_type": "code",
   "execution_count": 5,
   "metadata": {},
   "outputs": [],
   "source": [
    "graph_data = torch.load('output/graph_data.pt')\n",
    "model_state = torch.load('output/gnn_recommender.pth')"
   ]
  },
  {
   "cell_type": "code",
   "execution_count": 7,
   "metadata": {},
   "outputs": [],
   "source": [
    "model = GNNRecommender(input_dim=graph_data.x.shape[1], hidden_dim=8, output_dim=1)\n",
    "_ = model.load_state_dict(model_state)"
   ]
  },
  {
   "cell_type": "code",
   "execution_count": 25,
   "metadata": {},
   "outputs": [],
   "source": [
    "user_id = 3456\n",
    "user_blogs = get_user_blog_history(graph_data, user_id, blog_data_df, interactions_df)\n",
    "recommended_blogs = recommend_blogs(model, graph_data, user_id, top_k=5)"
   ]
  },
  {
   "cell_type": "code",
   "execution_count": 26,
   "metadata": {
    "scrolled": true
   },
   "outputs": [
    {
     "name": "stdout",
     "output_type": "stream",
     "text": [
      "User 3456 history:\n",
      "[web-development] Why PHP Is Still So Important for Web Development?\n",
      "[web-development] No code = No SEO?\n",
      "[web-development] Latest Trends — AI, Web & Mobile\n",
      "[web-development] JavaScript Quick Tutorial\n",
      "[web-development] Incidental Documentation: Writing docs without writing docs\n",
      "[web-development] Importance of mocking and stubbing in Tests\n",
      "[web-development] If Programming Is Hard, Why Is Finding a Job Much Harder\n",
      "[web-development] Common Patterns in JavaScript\n",
      "[web-development] Benefits of using Flask over Django for Web Development\n",
      "[web-development] A Comprehensive Guide to JavaScript Array Operations and Examples\n",
      "[web-development] 20 java best practices\n",
      "[backend-development] [ AI ] 讓 ChatGPT 當我的 Software Project 同事?\n",
      "[backend-development] Why FastAPI is a Future of Python Web Development\n",
      "[backend-development] Web Stack Weekly — Issue#63\n",
      "[backend-development] Web Stack Weekly — Issue#57\n",
      "[backend-development] Top 10 Backend Programming Languages For 2023\n",
      "[backend-development] The Use of Java In Backend Development\n",
      "[backend-development] Spring User Authentication — The easy way — Part 6\n",
      "[backend-development] Observer design pattern: Behavioral pattern\n",
      "[backend-development] Node.js Introduction\n",
      "[backend-development] Hello world in GO explained in detail — Learn Golang\n",
      "[backend-development] E se?\n",
      "[backend-development] Caching Menggunakan Redis\n",
      "[backend-development] Boost Your .NET Development Workflow with These Essential Tools\n",
      "[backend-development] Ask our Lead Developer: António Maltsev\n",
      "[web-development] Vue.js vs. React\n",
      "[web-development] The elePHPant in the room: Wordpress\n",
      "[web-development] Handling Callbacks and Promises in JavaScript\n",
      "[web-development] Dependency Injection in JavaScript\n",
      "[web-development] Advantages and Disadvantages in Declarative and Imperative Programming in JavaScript\n",
      "[web-development] 10 RxJS operators which I use daily as an Angular developer\n",
      "[backend-development] Spheron Network X KYVE Partnership\n",
      "[backend-development] Redis: Everything You Need To Know\n",
      "[backend-development] How To Solve N+1 In Django\n",
      "[web-development] The “Swiss army knife” every software developer should have under your belt (part 2).\n",
      "[web-development] Removing duplicates from arrays in JavaScript: 3 ways\n",
      "[web-development] Introduction to JavaScript Variables.\n",
      "[web-development] Django Signals\n",
      "[web-development] 10 Reasons Why React is the Ultimate Front-End Technology in 2023\n",
      "[backend-development] Zapier vs. Make.com | What is the best no-code automation tool?\n",
      "[backend-development] What caused Discord to switch from Go to Rust?\n",
      "[backend-development] Top 10 Python Development Companies\n",
      "[backend-development] Structured Clones Demystified: A Comprehensive Guide to Object Serialization in JavaScript\n",
      "[backend-development] SMS Verification using Twilio and NestJS\n",
      "[backend-development] NestJS: Why it’s the future of Node.js server-side development\n",
      "[backend-development] My Painful Journey into Python Asyncio: A quick look at some mistakes and bugs\n",
      "[backend-development] Implementasi Sistem Validasi Input di REST-API dengan Golang\n",
      "[backend-development] IP filtering using iptables — The firewall of Linux server\n",
      "[backend-development] Designing a Scalable Rate Limiter using a Distributed Database in Go\n",
      "[backend-development] Are you using Terminal? Must have aliases\n",
      "[web-development] How to Compare ES6 Sets for Equality?\n",
      "[web-development] Glogg your way through mountains of logs\n",
      "[web-development] Angular Observables and Observable Streams\n",
      "[backend-development] What is unit testing, and when do programmers need it?\n",
      "[backend-development] Node.Js ile Excel Dosyası Oluşturma ve Express ile Sunma\n",
      "[backend-development] Develop a simple backend using CodeIgniter 4\n",
      "[backend-development] A recipe app\n"
     ]
    }
   ],
   "source": [
    "print(f'User {user_id} history:')\n",
    "for blog in user_blogs:\n",
    "    print(f\"[{blog[1]}] {blog[2]}\")"
   ]
  },
  {
   "cell_type": "code",
   "execution_count": 27,
   "metadata": {},
   "outputs": [
    {
     "name": "stdout",
     "output_type": "stream",
     "text": [
      "\n",
      "Recommended Blogs for User 3456:\n",
      "[backend-development] Full Stack Development: An Overview\n",
      "[backend-development] How to make something like PHP in Python. Part 1\n",
      "[web-development] The useEffect() hook in React\n",
      "[web-development] 2 strange React writing methods\n",
      "[web-development] OSI model (The open systems interconnection model)\n"
     ]
    }
   ],
   "source": [
    "print(f'\\nRecommended Blogs for User {user_id}:')\n",
    "for blog in recommended_blogs.tolist():\n",
    "    full_blog = blog_data_df.iloc[blog]\n",
    "    print(f\"[{full_blog['topic']}] {full_blog['blog_title']}\")"
   ]
  },
  {
   "cell_type": "code",
   "execution_count": null,
   "metadata": {},
   "outputs": [],
   "source": []
  }
 ],
 "metadata": {
  "kernelspec": {
   "display_name": "Python 3 (ipykernel)",
   "language": "python",
   "name": "python3"
  },
  "language_info": {
   "codemirror_mode": {
    "name": "ipython",
    "version": 3
   },
   "file_extension": ".py",
   "mimetype": "text/x-python",
   "name": "python",
   "nbconvert_exporter": "python",
   "pygments_lexer": "ipython3",
   "version": "3.9.19"
  }
 },
 "nbformat": 4,
 "nbformat_minor": 4
}

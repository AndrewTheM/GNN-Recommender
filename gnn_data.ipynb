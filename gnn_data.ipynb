{
 "cells": [
  {
   "cell_type": "code",
   "execution_count": 1,
   "metadata": {},
   "outputs": [],
   "source": [
    "import torch\n",
    "import numpy as np\n",
    "import pandas as pd\n",
    "\n",
    "from sklearn.model_selection import train_test_split\n",
    "from sklearn.preprocessing import LabelEncoder, StandardScaler\n",
    "from torch_geometric.data import Data"
   ]
  },
  {
   "cell_type": "code",
   "execution_count": 2,
   "metadata": {},
   "outputs": [
    {
     "data": {
      "text/html": [
       "<div>\n",
       "<style scoped>\n",
       "    .dataframe tbody tr th:only-of-type {\n",
       "        vertical-align: middle;\n",
       "    }\n",
       "\n",
       "    .dataframe tbody tr th {\n",
       "        vertical-align: top;\n",
       "    }\n",
       "\n",
       "    .dataframe thead th {\n",
       "        text-align: right;\n",
       "    }\n",
       "</style>\n",
       "<table border=\"1\" class=\"dataframe\">\n",
       "  <thead>\n",
       "    <tr style=\"text-align: right;\">\n",
       "      <th></th>\n",
       "      <th>blog_id</th>\n",
       "      <th>author_id</th>\n",
       "      <th>topic</th>\n",
       "    </tr>\n",
       "  </thead>\n",
       "  <tbody>\n",
       "    <tr>\n",
       "      <th>10462</th>\n",
       "      <td>10489</td>\n",
       "      <td>6867</td>\n",
       "      <td>21</td>\n",
       "    </tr>\n",
       "    <tr>\n",
       "      <th>10463</th>\n",
       "      <td>10490</td>\n",
       "      <td>2490</td>\n",
       "      <td>21</td>\n",
       "    </tr>\n",
       "    <tr>\n",
       "      <th>10464</th>\n",
       "      <td>10491</td>\n",
       "      <td>6810</td>\n",
       "      <td>21</td>\n",
       "    </tr>\n",
       "    <tr>\n",
       "      <th>10465</th>\n",
       "      <td>10492</td>\n",
       "      <td>6868</td>\n",
       "      <td>21</td>\n",
       "    </tr>\n",
       "    <tr>\n",
       "      <th>10466</th>\n",
       "      <td>10493</td>\n",
       "      <td>6750</td>\n",
       "      <td>21</td>\n",
       "    </tr>\n",
       "  </tbody>\n",
       "</table>\n",
       "</div>"
      ],
      "text/plain": [
       "       blog_id  author_id  topic\n",
       "10462    10489       6867     21\n",
       "10463    10490       2490     21\n",
       "10464    10491       6810     21\n",
       "10465    10492       6868     21\n",
       "10466    10493       6750     21"
      ]
     },
     "execution_count": 2,
     "metadata": {},
     "output_type": "execute_result"
    }
   ],
   "source": [
    "blog_data_df = pd.read_csv('data/blog_data.csv')\n",
    "\n",
    "irrelevant_cols = ['blog_title', 'blog_content', 'blog_link', 'blog_img', 'scrape_time']\n",
    "blog_data_df.drop(irrelevant_cols, axis='columns', inplace=True)\n",
    "blog_data_df['topic'] = LabelEncoder().fit_transform(blog_data_df['topic'])\n",
    "\n",
    "blog_data_df.tail()"
   ]
  },
  {
   "cell_type": "code",
   "execution_count": 3,
   "metadata": {},
   "outputs": [
    {
     "data": {
      "text/plain": [
       "count    200140.000000\n",
       "mean          3.744979\n",
       "std           1.178742\n",
       "min           2.000000\n",
       "25%           3.000000\n",
       "50%           4.000000\n",
       "75%           5.000000\n",
       "max           5.000000\n",
       "Name: interaction, dtype: float64"
      ]
     },
     "execution_count": 3,
     "metadata": {},
     "output_type": "execute_result"
    }
   ],
   "source": [
    "interactions_df = pd.read_csv('data/blog_interactions.csv')\n",
    "\n",
    "interactions_df.rename(columns={'userId': 'user_id', 'ratings': 'interaction'}, inplace=True)\n",
    "interactions_df.replace({'interaction': {0.5: 2, 2: 3, 3.5: 4, 5: 5}}, inplace=True)\n",
    "interactions_df['interaction'] = interactions_df['interaction'].fillna(2).astype(float)\n",
    "\n",
    "interactions_df['interaction'].describe()"
   ]
  },
  {
   "cell_type": "code",
   "execution_count": 4,
   "metadata": {},
   "outputs": [
    {
     "data": {
      "text/html": [
       "<div>\n",
       "<style scoped>\n",
       "    .dataframe tbody tr th:only-of-type {\n",
       "        vertical-align: middle;\n",
       "    }\n",
       "\n",
       "    .dataframe tbody tr th {\n",
       "        vertical-align: top;\n",
       "    }\n",
       "\n",
       "    .dataframe thead th {\n",
       "        text-align: right;\n",
       "    }\n",
       "</style>\n",
       "<table border=\"1\" class=\"dataframe\">\n",
       "  <thead>\n",
       "    <tr style=\"text-align: right;\">\n",
       "      <th></th>\n",
       "      <th>blog_id</th>\n",
       "      <th>user_id</th>\n",
       "      <th>interaction</th>\n",
       "    </tr>\n",
       "  </thead>\n",
       "  <tbody>\n",
       "    <tr>\n",
       "      <th>0</th>\n",
       "      <td>8998</td>\n",
       "      <td>11</td>\n",
       "      <td>4.0</td>\n",
       "    </tr>\n",
       "    <tr>\n",
       "      <th>1</th>\n",
       "      <td>9293</td>\n",
       "      <td>11</td>\n",
       "      <td>5.0</td>\n",
       "    </tr>\n",
       "    <tr>\n",
       "      <th>2</th>\n",
       "      <td>9219</td>\n",
       "      <td>11</td>\n",
       "      <td>4.0</td>\n",
       "    </tr>\n",
       "    <tr>\n",
       "      <th>3</th>\n",
       "      <td>9404</td>\n",
       "      <td>11</td>\n",
       "      <td>5.0</td>\n",
       "    </tr>\n",
       "    <tr>\n",
       "      <th>4</th>\n",
       "      <td>848</td>\n",
       "      <td>11</td>\n",
       "      <td>3.0</td>\n",
       "    </tr>\n",
       "  </tbody>\n",
       "</table>\n",
       "</div>"
      ],
      "text/plain": [
       "   blog_id  user_id  interaction\n",
       "0     8998       11          4.0\n",
       "1     9293       11          5.0\n",
       "2     9219       11          4.0\n",
       "3     9404       11          5.0\n",
       "4      848       11          3.0"
      ]
     },
     "execution_count": 4,
     "metadata": {},
     "output_type": "execute_result"
    }
   ],
   "source": [
    "blog_ids_map = {id: i for i, id in enumerate(blog_data_df['blog_id'])}\n",
    "blog_data_df['blog_id'] = blog_data_df['blog_id'].map(blog_ids_map)\n",
    "interactions_df['blog_id'] = interactions_df['blog_id'].map(blog_ids_map)\n",
    "interactions_df.head()"
   ]
  },
  {
   "cell_type": "code",
   "execution_count": 5,
   "metadata": {},
   "outputs": [
    {
     "data": {
      "text/html": [
       "<div>\n",
       "<style scoped>\n",
       "    .dataframe tbody tr th:only-of-type {\n",
       "        vertical-align: middle;\n",
       "    }\n",
       "\n",
       "    .dataframe tbody tr th {\n",
       "        vertical-align: top;\n",
       "    }\n",
       "\n",
       "    .dataframe thead th {\n",
       "        text-align: right;\n",
       "    }\n",
       "</style>\n",
       "<table border=\"1\" class=\"dataframe\">\n",
       "  <thead>\n",
       "    <tr style=\"text-align: right;\">\n",
       "      <th></th>\n",
       "      <th>blog_id</th>\n",
       "      <th>author_id</th>\n",
       "      <th>topic</th>\n",
       "    </tr>\n",
       "  </thead>\n",
       "  <tbody>\n",
       "    <tr>\n",
       "      <th>9724</th>\n",
       "      <td>9724</td>\n",
       "      <td>6406</td>\n",
       "      <td>1</td>\n",
       "    </tr>\n",
       "    <tr>\n",
       "      <th>9725</th>\n",
       "      <td>9725</td>\n",
       "      <td>5658</td>\n",
       "      <td>1</td>\n",
       "    </tr>\n",
       "    <tr>\n",
       "      <th>9726</th>\n",
       "      <td>9726</td>\n",
       "      <td>6407</td>\n",
       "      <td>1</td>\n",
       "    </tr>\n",
       "    <tr>\n",
       "      <th>9727</th>\n",
       "      <td>9727</td>\n",
       "      <td>6343</td>\n",
       "      <td>1</td>\n",
       "    </tr>\n",
       "    <tr>\n",
       "      <th>9728</th>\n",
       "      <td>9728</td>\n",
       "      <td>6408</td>\n",
       "      <td>1</td>\n",
       "    </tr>\n",
       "  </tbody>\n",
       "</table>\n",
       "</div>"
      ],
      "text/plain": [
       "      blog_id  author_id  topic\n",
       "9724     9724       6406      1\n",
       "9725     9725       5658      1\n",
       "9726     9726       6407      1\n",
       "9727     9727       6343      1\n",
       "9728     9728       6408      1"
      ]
     },
     "execution_count": 5,
     "metadata": {},
     "output_type": "execute_result"
    }
   ],
   "source": [
    "last_interacted_blog_id = interactions_df['blog_id'].max()\n",
    "blog_data_df = blog_data_df.query('blog_id <= @last_interacted_blog_id')\n",
    "blog_data_df.tail()"
   ]
  },
  {
   "cell_type": "code",
   "execution_count": 6,
   "metadata": {},
   "outputs": [
    {
     "data": {
      "text/plain": [
       "9729"
      ]
     },
     "execution_count": 6,
     "metadata": {},
     "output_type": "execute_result"
    }
   ],
   "source": [
    "blog_rating_groups = interactions_df.drop('user_id', axis=1).groupby('blog_id')\n",
    "keys = [k for k,_ in blog_rating_groups]\n",
    "blog_mean_ratings = {k:v for k,v in zip(keys, blog_rating_groups.mean().values[:, 0])}\n",
    "\n",
    "ratings = []\n",
    "for blog_id in blog_data_df['blog_id'].unique():\n",
    "    if blog_id in blog_mean_ratings:\n",
    "        ratings.append(blog_mean_ratings[blog_id])\n",
    "    else:\n",
    "        ratings.append(0.0)\n",
    "\n",
    "len(ratings)"
   ]
  },
  {
   "cell_type": "code",
   "execution_count": 7,
   "metadata": {},
   "outputs": [],
   "source": [
    "def create_edge_index(data):\n",
    "    edge_index = torch.tensor(data[['user_id', 'blog_id']].values.T, dtype=torch.long)\n",
    "    edge_weight = torch.tensor(data['interaction'].values, dtype=torch.float)\n",
    "    return edge_index, edge_weight"
   ]
  },
  {
   "cell_type": "code",
   "execution_count": 8,
   "metadata": {},
   "outputs": [],
   "source": [
    "node_features = torch.tensor(blog_data_df[['topic']].values, dtype=torch.float)\n",
    "\n",
    "# Create author embeddings\n",
    "author_ids = blog_data_df['author_id'].unique()\n",
    "author_id_map = {id: i for i, id in enumerate(author_ids)}\n",
    "blog_data_df['author_idx'] = blog_data_df['author_id'].map(author_id_map)\n",
    "\n",
    "author_embeddings = torch.nn.Embedding(len(author_ids), embedding_dim=16)\n",
    "author_embedded = author_embeddings(torch.tensor(blog_data_df['author_idx'].values, dtype=torch.long))\n",
    "\n",
    "node_features = torch.cat([node_features, author_embedded], dim=1)\n",
    "\n",
    "edge_index, edge_weight = create_edge_index(interactions_df)\n",
    "\n",
    "mean_ratings = torch.tensor(ratings, dtype=torch.float)"
   ]
  },
  {
   "cell_type": "code",
   "execution_count": 9,
   "metadata": {},
   "outputs": [],
   "source": [
    "train_data, temp_data = train_test_split(interactions_df, test_size=0.3, random_state=42)\n",
    "val_data, test_data = train_test_split(temp_data, test_size=0.5, random_state=42)\n",
    "\n",
    "train_edge_index, train_edge_weight = create_edge_index(train_data)\n",
    "val_edge_index, val_edge_weight = create_edge_index(val_data)\n",
    "test_edge_index, test_edge_weight = create_edge_index(test_data)"
   ]
  },
  {
   "cell_type": "code",
   "execution_count": 10,
   "metadata": {},
   "outputs": [],
   "source": [
    "data = Data(x=node_features, y=mean_ratings, edge_index=edge_index, edge_attr=edge_weight)\n",
    "\n",
    "data.train_edge_index = train_edge_index\n",
    "data.train_edge_attr = train_edge_weight\n",
    "data.val_edge_index = val_edge_index\n",
    "data.val_edge_attr = val_edge_weight\n",
    "data.test_edge_index = test_edge_index\n",
    "data.test_edge_attr = test_edge_weight"
   ]
  },
  {
   "cell_type": "code",
   "execution_count": 11,
   "metadata": {},
   "outputs": [],
   "source": [
    "torch.save(data, 'output/graph_data.pt')"
   ]
  },
  {
   "cell_type": "code",
   "execution_count": 12,
   "metadata": {},
   "outputs": [
    {
     "data": {
      "text/plain": [
       "Data(x=[9729, 17], edge_index=[2, 200140], edge_attr=[200140], y=[9729], train_edge_index=[2, 140098], train_edge_attr=[140098], val_edge_index=[2, 30021], val_edge_attr=[30021], test_edge_index=[2, 30021], test_edge_attr=[30021])"
      ]
     },
     "execution_count": 12,
     "metadata": {},
     "output_type": "execute_result"
    }
   ],
   "source": [
    "data"
   ]
  },
  {
   "cell_type": "code",
   "execution_count": null,
   "metadata": {},
   "outputs": [],
   "source": []
  }
 ],
 "metadata": {
  "kernelspec": {
   "display_name": "Python 3 (ipykernel)",
   "language": "python",
   "name": "python3"
  },
  "language_info": {
   "codemirror_mode": {
    "name": "ipython",
    "version": 3
   },
   "file_extension": ".py",
   "mimetype": "text/x-python",
   "name": "python",
   "nbconvert_exporter": "python",
   "pygments_lexer": "ipython3",
   "version": "3.9.19"
  }
 },
 "nbformat": 4,
 "nbformat_minor": 4
}
